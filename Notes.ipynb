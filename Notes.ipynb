{
 "cells": [
  {
   "cell_type": "markdown",
   "metadata": {},
   "source": [
    "# Presentación\n",
    "\n",
    "Profesor -> Kiko\n",
    "email -> kiko2r@ua.es\n"
   ]
  },
  {
   "cell_type": "markdown",
   "metadata": {},
   "source": [
    "# Practica\n",
    "\n",
    "1.- Cargar el motor\n",
    "2.- Ejecutar Connect6GUI \n",
    "\n",
    "Tenemos que desarrollar Conect6Engine\n",
    "\n",
    "Instalar libreria para crear un ejecutable del motor de juego -> python -m Pyintaler .... \n",
    "\n",
    "1. Ejecutamos ConnectMore.py para iniciar la Interfaz gráfica\n",
    "2. \n",
    "\n",
    "# Algoritmos\n",
    "## Min Max\n",
    "## AlphaBeta\n",
    "Corta ramas que no sean utiles ambos jugadores de la partida\n",
    "\n",
    "Valor maximo = Alpha\n",
    "Valor minimo = Beta\n",
    "\n",
    "(Max, Min) -> (a, b) \n",
    "\n",
    "Si a >= b, dejamos de evaluar los siguientes nodos\n",
    "\n",
    "\n",
    "\n",
    "\n"
   ]
  }
 ],
 "metadata": {
  "language_info": {
   "name": "python"
  },
  "orig_nbformat": 4
 },
 "nbformat": 4,
 "nbformat_minor": 2
}
